{
  "nbformat": 4,
  "nbformat_minor": 0,
  "metadata": {
    "colab": {
      "provenance": []
    },
    "kernelspec": {
      "name": "python3",
      "display_name": "Python 3"
    },
    "language_info": {
      "name": "python"
    }
  },
  "cells": [
    {
      "cell_type": "code",
      "execution_count": 1,
      "metadata": {
        "id": "VZF9JjLLBi6F"
      },
      "outputs": [],
      "source": [
        "import pandas as pd\n",
        "import numpy as np\n",
        "from sklearn.metrics.pairwise import cosine_similarity\n",
        "from scipy.sparse import csr_matrix"
      ]
    },
    {
      "cell_type": "code",
      "source": [
        "# Mount Google Drive\n",
        "from google.colab import drive\n",
        "drive.mount('/content/drive')"
      ],
      "metadata": {
        "colab": {
          "base_uri": "https://localhost:8080/"
        },
        "id": "SMN7L9tYBpz4",
        "outputId": "a36e6653-ac1c-4c85-c59c-b38837ffcf2f"
      },
      "execution_count": 2,
      "outputs": [
        {
          "output_type": "stream",
          "name": "stdout",
          "text": [
            "Mounted at /content/drive\n"
          ]
        }
      ]
    },
    {
      "cell_type": "code",
      "source": [
        "# Load datasets\n",
        "ratings_path = \"/content/drive/MyDrive/UITS/UITS /Eight Semester/Data Mining/Assignments/Assignment 1/ratings.csv\"\n",
        "movies_path = \"/content/drive/MyDrive/UITS/UITS /Eight Semester/Data Mining/Assignments/Assignment 1/movies.xlsx\"\n",
        "\n",
        "ratings_df = pd.read_csv(ratings_path)\n",
        "movies_df = pd.read_excel(movies_path)\n"
      ],
      "metadata": {
        "id": "Y6xLe7unBrOp"
      },
      "execution_count": 3,
      "outputs": []
    },
    {
      "cell_type": "code",
      "source": [
        "# Merge datasets\n",
        "df = pd.merge(ratings_df, movies_df, on='movieId')\n",
        "\n",
        "# Create sparse matrix\n",
        "row = df['movieId'].astype('category').cat.codes\n",
        "col = df['userId'].astype('category').cat.codes\n",
        "data = df['rating'].values\n",
        "sparse_matrix = csr_matrix((data, (row, col)))\n"
      ],
      "metadata": {
        "id": "NuH3TuRhBt4k"
      },
      "execution_count": 4,
      "outputs": []
    },
    {
      "cell_type": "code",
      "source": [
        "# Compute cosine similarity (sparse)\n",
        "movie_similarity = cosine_similarity(sparse_matrix, dense_output=False)\n"
      ],
      "metadata": {
        "id": "wXJgA82aBuc5"
      },
      "execution_count": 5,
      "outputs": []
    },
    {
      "cell_type": "code",
      "source": [
        "# Convert similarity matrix to DataFrame\n",
        "movie_ids = df['movieId'].astype('category').cat.categories\n",
        "movie_sim_df = pd.DataFrame(movie_similarity.toarray(), index=movie_ids, columns=movie_ids)\n"
      ],
      "metadata": {
        "id": "BjAM2gF5BwUR"
      },
      "execution_count": 6,
      "outputs": []
    },
    {
      "cell_type": "code",
      "source": [
        "# Generate recommendations for a user\n",
        "user_id_example = 1\n",
        "user_ratings = df[df['userId'] == user_id_example].sort_values(by='rating', ascending=False)\n",
        "top_movies = user_ratings['movieId'].head(3).values\n",
        "\n"
      ],
      "metadata": {
        "id": "_ngEaKvpBxTD"
      },
      "execution_count": 7,
      "outputs": []
    },
    {
      "cell_type": "code",
      "source": [
        "similar_movies_list = set()\n",
        "for movie in top_movies:\n",
        "    similar_movies_list.update(movie_sim_df[movie].nlargest(6).iloc[1:].index)\n",
        "\n",
        "unrated_movies = list(similar_movies_list - set(user_ratings['movieId']))\n",
        "recommended_movies = movies_df[movies_df['movieId'].isin(unrated_movies)].head(5)"
      ],
      "metadata": {
        "id": "BAPrJL-sByXz"
      },
      "execution_count": 8,
      "outputs": []
    },
    {
      "cell_type": "code",
      "source": [
        "print(\"\\nRecommended movies for the user:\")\n",
        "print(recommended_movies)"
      ],
      "metadata": {
        "colab": {
          "base_uri": "https://localhost:8080/"
        },
        "id": "5E5RvO35BziX",
        "outputId": "1cb942fa-bba6-4162-9b06-3e3f00f3596b"
      },
      "execution_count": 9,
      "outputs": [
        {
          "output_type": "stream",
          "name": "stdout",
          "text": [
            "\n",
            "Recommended movies for the user:\n",
            "     movieId                        title                       genres\n",
            "43        47  Seven (a.k.a. Se7en) (1995)             Mystery|Thriller\n",
            "46        50   Usual Suspects, The (1995)       Crime|Mystery|Thriller\n",
            "76        85    Angels and Insects (1995)                Drama|Romance\n",
            "257      296          Pulp Fiction (1994)  Comedy|Crime|Drama|Thriller\n",
            "284      326      To Live (Huozhe) (1994)                        Drama\n"
          ]
        }
      ]
    }
  ]
}